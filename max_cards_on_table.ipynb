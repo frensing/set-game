{
 "cells": [
  {
   "cell_type": "code",
   "execution_count": 126,
   "metadata": {},
   "outputs": [
    {
     "name": "stdout",
     "output_type": "stream",
     "text": [
      "The autoreload extension is already loaded. To reload it, use:\n",
      "  %reload_ext autoreload\n"
     ]
    }
   ],
   "source": [
    "%load_ext autoreload\n",
    "%autoreload 2"
   ]
  },
  {
   "cell_type": "code",
   "execution_count": 127,
   "metadata": {},
   "outputs": [],
   "source": [
    "import random\n",
    "\n",
    "from card import build_deck"
   ]
  },
  {
   "cell_type": "code",
   "execution_count": 129,
   "metadata": {},
   "outputs": [],
   "source": [
    "def experiment(seed):\n",
    "  deck = build_deck()\n",
    "\n",
    "  random.seed(seed)\n",
    "  random.shuffle(deck)\n",
    "\n",
    "  discard = []\n",
    "  table = []\n",
    "\n",
    "  while len(deck):\n",
    "    card = deck.pop(0)\n",
    "\n",
    "    for c in table:\n",
    "      d = card.get_fitting_card(c)\n",
    "      if d in deck:\n",
    "        deck.remove(d)\n",
    "      discard.append(d)\n",
    "\n",
    "    table.append(card)\n",
    "  \n",
    "  return table\n"
   ]
  },
  {
   "cell_type": "code",
   "execution_count": 136,
   "metadata": {},
   "outputs": [
    {
     "name": "stdout",
     "output_type": "stream",
     "text": [
      "best: 20 , worst: 16\n"
     ]
    },
    {
     "data": {
      "text/plain": [
       "[{'color': 'red', 'shape': 'squiggle', 'filling': 'empty', 'number': 2},\n",
       " {'color': 'purple', 'shape': 'oval', 'filling': 'striped', 'number': 3},\n",
       " {'color': 'purple', 'shape': 'diamond', 'filling': 'empty', 'number': 2},\n",
       " {'color': 'purple', 'shape': 'diamond', 'filling': 'filled', 'number': 2},\n",
       " {'color': 'red', 'shape': 'diamond', 'filling': 'empty', 'number': 1},\n",
       " {'color': 'green', 'shape': 'squiggle', 'filling': 'empty', 'number': 2},\n",
       " {'color': 'red', 'shape': 'squiggle', 'filling': 'empty', 'number': 3},\n",
       " {'color': 'purple', 'shape': 'squiggle', 'filling': 'empty', 'number': 3},\n",
       " {'color': 'red', 'shape': 'diamond', 'filling': 'filled', 'number': 3},\n",
       " {'color': 'red', 'shape': 'squiggle', 'filling': 'filled', 'number': 3},\n",
       " {'color': 'purple', 'shape': 'oval', 'filling': 'empty', 'number': 2},\n",
       " {'color': 'red', 'shape': 'squiggle', 'filling': 'striped', 'number': 2},\n",
       " {'color': 'green', 'shape': 'oval', 'filling': 'filled', 'number': 3},\n",
       " {'color': 'red', 'shape': 'diamond', 'filling': 'empty', 'number': 3},\n",
       " {'color': 'purple', 'shape': 'diamond', 'filling': 'filled', 'number': 1},\n",
       " {'color': 'purple', 'shape': 'diamond', 'filling': 'empty', 'number': 3},\n",
       " {'color': 'purple', 'shape': 'oval', 'filling': 'filled', 'number': 2},\n",
       " {'color': 'purple', 'shape': 'oval', 'filling': 'filled', 'number': 3},\n",
       " {'color': 'red', 'shape': 'diamond', 'filling': 'filled', 'number': 2},\n",
       " {'color': 'red', 'shape': 'oval', 'filling': 'filled', 'number': 2}]"
      ]
     },
     "execution_count": 136,
     "metadata": {},
     "output_type": "execute_result"
    }
   ],
   "source": [
    "exp = [len(experiment(seed)) for seed in range(1000)]\n",
    "\n",
    "best_seed = exp.index(max(exp))\n",
    "worst_seed = exp.index(min(exp))\n",
    "print('best:', exp[best_seed], ', worst:', exp[worst_seed])\n",
    "\n",
    "experiment(best_seed)"
   ]
  }
 ],
 "metadata": {
  "kernelspec": {
   "display_name": ".venv",
   "language": "python",
   "name": "python3"
  },
  "language_info": {
   "codemirror_mode": {
    "name": "ipython",
    "version": 3
   },
   "file_extension": ".py",
   "mimetype": "text/x-python",
   "name": "python",
   "nbconvert_exporter": "python",
   "pygments_lexer": "ipython3",
   "version": "3.10.12"
  }
 },
 "nbformat": 4,
 "nbformat_minor": 2
}
